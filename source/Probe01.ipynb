{
 "cells": [
  {
   "cell_type": "code",
   "execution_count": null,
   "metadata": {},
   "outputs": [],
   "source": [
    "from selenium import webdriver\n",
    "from selenium.webdriver.chrome.options import Options\n",
    "from selenium.webdriver.common.by import By\n",
    "from tqdm import tqdm\n",
    "import math\n",
    "import time\n",
    "from datetime import datetime\n",
    "import pickle\n",
    "from pathlib import Path\n",
    "import os\n",
    "import requests\n",
    "from bs4 import BeautifulSoup\n",
    "import lxml\n",
    "import traceback\n",
    "import argparse\n",
    "import pandas as pd\n",
    "import re\n",
    "from html import unescape\n"
   ]
  },
  {
   "cell_type": "code",
   "execution_count": null,
   "metadata": {},
   "outputs": [],
   "source": [
    "path_main = 'U:/01 Elbrus Bootcamp/56 W11D3 Parsing/Project'\n",
    "path_data = path_main + '/data'\n",
    "path_images = path_main + '/images'\n"
   ]
  },
  {
   "cell_type": "code",
   "execution_count": null,
   "metadata": {},
   "outputs": [],
   "source": [
    "data_file = 'books.csv'\n",
    "data = pd.DataFrame([], columns=['page_url', 'image_url', 'author', 'title', 'annotation', 'book_image_file_name'])"
   ]
  },
  {
   "cell_type": "code",
   "execution_count": null,
   "metadata": {},
   "outputs": [],
   "source": [
    "# data.to_csv(path_main + '/data/books.csv')"
   ]
  },
  {
   "cell_type": "code",
   "execution_count": null,
   "metadata": {},
   "outputs": [],
   "source": [
    "# подготовка  к запросам\n",
    "headers = {\"User-Agent\": \"Mozilla/5.0 (Macintosh; Intel Mac OS X 10_10_1) \" \n",
    "           \"AppleWebKit/537.36 (KHTML, like Gecko) \"\n",
    "           \"Chrome/39.0.2171.95 Safari/537.36\"\n",
    "           }"
   ]
  },
  {
   "cell_type": "code",
   "execution_count": null,
   "metadata": {},
   "outputs": [],
   "source": [
    "url =  'https://www.litres.ru/book/anne-dar/pobedonosec-71641255/'\n",
    "#[page_url]"
   ]
  },
  {
   "cell_type": "code",
   "execution_count": null,
   "metadata": {},
   "outputs": [],
   "source": [
    "r = requests.get(url, headers=headers, timeout=60)\n"
   ]
  },
  {
   "cell_type": "code",
   "execution_count": null,
   "metadata": {},
   "outputs": [],
   "source": [
    "r.status_code # если 200 - то ок"
   ]
  },
  {
   "cell_type": "code",
   "execution_count": null,
   "metadata": {},
   "outputs": [],
   "source": [
    "print(r.text)"
   ]
  },
  {
   "cell_type": "code",
   "execution_count": null,
   "metadata": {},
   "outputs": [],
   "source": [
    "# if r.status_code == 200:\n",
    "#     # если все ок\n",
    "#     soup = BeautifulSoup(r.text, 'html.parser')"
   ]
  },
  {
   "cell_type": "code",
   "execution_count": null,
   "metadata": {},
   "outputs": [],
   "source": [
    "soup1 = BeautifulSoup(r.text, 'html.parser')"
   ]
  },
  {
   "cell_type": "code",
   "execution_count": null,
   "metadata": {},
   "outputs": [],
   "source": [
    "title = soup1.find('body').find('div', id='layout-root').find('main', id='main').find('div', id='book-card__wrapper').find('h1', itemprop='name')\n",
    "# title = soup1.find('body').find('div', id='layout-root').find('main', id='main').find('h1', itemprop='name')\n",
    "print(title)"
   ]
  },
  {
   "cell_type": "code",
   "execution_count": null,
   "metadata": {},
   "outputs": [],
   "source": [
    "book_title = title.getText() #[title]\n",
    "book_title"
   ]
  },
  {
   "cell_type": "code",
   "execution_count": null,
   "metadata": {},
   "outputs": [],
   "source": [
    "author = soup1.find('body').find('div', id='layout-root').find('main', id='main').find('div', class_='Truncate_truncated__jKdVt')\n",
    "author.getText() #[author]"
   ]
  },
  {
   "cell_type": "code",
   "execution_count": null,
   "metadata": {},
   "outputs": [],
   "source": [
    "image_link = soup1.find('body').find('div', id='layout-root').find('main', id='main').find('img', itemprop='image')['src']\n",
    "image_link # [image_url]\n",
    "# пока сохроаним только ссылку на картинку"
   ]
  },
  {
   "cell_type": "code",
   "execution_count": null,
   "metadata": {},
   "outputs": [],
   "source": [
    "# подготовка  к запросам\n",
    "headers3 = {\"User-Agent\": \"Mozilla/5.0 (Macintosh; Intel Mac OS X 10_10_1) \" \n",
    "           \"AppleWebKit/537.36 (KHTML, like Gecko) \"\n",
    "           \"Chrome/39.0.2171.95 Safari/537.36\",\n",
    "           \"Referer\": \"https://www.litres.ru/book/anne-dar/pobedonosec-71641255/\"\n",
    "           }"
   ]
  },
  {
   "cell_type": "code",
   "execution_count": null,
   "metadata": {},
   "outputs": [],
   "source": [
    "url3 = \"https://api.litres.ru/tracker/api/event/\""
   ]
  },
  {
   "cell_type": "code",
   "execution_count": null,
   "metadata": {},
   "outputs": [],
   "source": [
    "r3 = requests.get(url, headers=headers3, timeout=60)"
   ]
  },
  {
   "cell_type": "code",
   "execution_count": null,
   "metadata": {},
   "outputs": [],
   "source": [
    "r3.status_code"
   ]
  },
  {
   "cell_type": "code",
   "execution_count": null,
   "metadata": {},
   "outputs": [],
   "source": [
    "print(r3.text)"
   ]
  },
  {
   "cell_type": "code",
   "execution_count": null,
   "metadata": {},
   "outputs": [],
   "source": [
    "soup3 = BeautifulSoup(r3.text, 'html.parser')"
   ]
  },
  {
   "cell_type": "code",
   "execution_count": null,
   "metadata": {},
   "outputs": [],
   "source": [
    "content = soup3.find('body').find('div', id='layout-root').find('main', id='main').find('div', class_='BookCard_book__content__7J8Fc').find('div', class_='BookCard_truncate__jrVwM')\n",
    "content"
   ]
  },
  {
   "cell_type": "code",
   "execution_count": null,
   "metadata": {},
   "outputs": [],
   "source": [
    "book_content = content.getText() #[title]\n",
    "book_content"
   ]
  },
  {
   "cell_type": "code",
   "execution_count": null,
   "metadata": {},
   "outputs": [],
   "source": []
  },
  {
   "cell_type": "code",
   "execution_count": null,
   "metadata": {},
   "outputs": [],
   "source": [
    "# пробуем добыть каталог ---------------------------------"
   ]
  },
  {
   "cell_type": "code",
   "execution_count": null,
   "metadata": {},
   "outputs": [],
   "source": [
    "catalogue_url =  'https://www.litres.ru/pages/new_genres/'"
   ]
  },
  {
   "cell_type": "code",
   "execution_count": null,
   "metadata": {},
   "outputs": [],
   "source": [
    "r_catalogue = requests.get(catalogue_url, headers=headers, timeout=60)"
   ]
  },
  {
   "cell_type": "code",
   "execution_count": null,
   "metadata": {},
   "outputs": [],
   "source": [
    "print(r_catalogue.text)"
   ]
  },
  {
   "cell_type": "code",
   "execution_count": null,
   "metadata": {},
   "outputs": [],
   "source": [
    "catalogue_soup1 = BeautifulSoup(r_catalogue.text, 'html.parser')"
   ]
  },
  {
   "cell_type": "code",
   "execution_count": null,
   "metadata": {},
   "outputs": [],
   "source": [
    "#content = soup3.find('body').find('div', id='layout-root').find('main', id='main').find('div', class_='BookCard_book__content__7J8Fc').find('div', class_='BookCard_truncate__jrVwM')\n",
    "content = catalogue_soup1.find_all('a', tabindex=\"0\")\n",
    "content"
   ]
  },
  {
   "cell_type": "code",
   "execution_count": null,
   "metadata": {},
   "outputs": [],
   "source": [
    "total_catalogue_dict = {'Group':[], 'Group_link':[]}\n",
    "\n",
    "a1 = str(content).split(sep=\"</a>, \")\n",
    "for line in range(0, len(a1)):    \n",
    "    if a1[line].find('StyledLink_link__UWNRS Item_item__LNZxG') > 0:\n",
    "        a1_bs = BeautifulSoup(a1[line], 'html.parser')\n",
    "        group_link = a1_bs.find('a')['href']\n",
    "        group = a1_bs.getText()\n",
    "        total_catalogue_dict['Group'].append(group)\n",
    "        total_catalogue_dict['Group_link'].append(group_link)\n",
    "\n",
    "total_catalogue_dict = pd.DataFrame.from_dict(total_catalogue_dict)\n",
    "total_catalogue_dict"
   ]
  },
  {
   "cell_type": "code",
   "execution_count": null,
   "metadata": {},
   "outputs": [],
   "source": [
    "total_catalogue_dict.to_csv('data/book_groups.csv')"
   ]
  },
  {
   "cell_type": "code",
   "execution_count": null,
   "metadata": {},
   "outputs": [],
   "source": [
    "# https://www.litres.ru/genre/knigi-detektivy-5022/?view=showroom\n",
    "# /genre/knigi-detektivy-5022/"
   ]
  },
  {
   "cell_type": "code",
   "execution_count": null,
   "metadata": {},
   "outputs": [],
   "source": []
  },
  {
   "cell_type": "code",
   "execution_count": null,
   "metadata": {},
   "outputs": [],
   "source": [
    "# начинаем собирать ссылки на книги с одной страницы  ---------------------------------"
   ]
  },
  {
   "cell_type": "code",
   "execution_count": null,
   "metadata": {},
   "outputs": [],
   "source": [
    "new_link_portion = total_catalogue_dict.iloc[1,1]\n",
    "base_link = 'https://www.litres.ru' + new_link_portion + '?view=showroom&page=2' # !!!!!!!!!!!!!!!!!!! page\n",
    "base_link\n"
   ]
  },
  {
   "cell_type": "code",
   "execution_count": null,
   "metadata": {},
   "outputs": [],
   "source": [
    "single_page_r = requests.get(base_link, headers=headers, timeout=60)"
   ]
  },
  {
   "cell_type": "code",
   "execution_count": null,
   "metadata": {},
   "outputs": [],
   "source": [
    "single_page_r.status_code # если 200 - то ок"
   ]
  },
  {
   "cell_type": "code",
   "execution_count": null,
   "metadata": {},
   "outputs": [],
   "source": [
    "single_page_soup = BeautifulSoup(single_page_r.text, 'html.parser')"
   ]
  },
  {
   "cell_type": "code",
   "execution_count": null,
   "metadata": {},
   "outputs": [],
   "source": [
    "title = single_page_soup.find('div', class_='PaginatedContent_wrapper___IXwB').find('div', class_='PaginatedContent_content__HG6bS').find_all('a', tabindex='0')\n",
    "title"
   ]
  },
  {
   "cell_type": "code",
   "execution_count": null,
   "metadata": {},
   "outputs": [],
   "source": [
    "total_page_link = {'Name':[], 'Link':[]}\n",
    "\n",
    "a1 = str(title).split(sep=\"</a>, \")\n",
    "for line in range(0, len(a1)):    \n",
    "    if a1[line].find('aria-label') > 0:\n",
    "        a1_bs = BeautifulSoup(a1[line], 'html.parser')\n",
    "        name_link = a1_bs.find('a')['href'] \n",
    "        name = a1_bs.find('a')['aria-label'] \n",
    "        total_page_link['Name'].append(name)\n",
    "        total_page_link['Link'].append(name_link)\n",
    "\n",
    "total_page_link = pd.DataFrame.from_dict(total_page_link)\n",
    "total_page_link"
   ]
  },
  {
   "cell_type": "code",
   "execution_count": null,
   "metadata": {},
   "outputs": [],
   "source": [
    "# https://www.litres.ru/book/stiv-kavana/pyatdesyat-na-pyatdesyat-71516344/\n",
    "# /book/anne-dar/pobedonosec-71641255/"
   ]
  },
  {
   "cell_type": "code",
   "execution_count": null,
   "metadata": {},
   "outputs": [],
   "source": [
    "# теперь чилсо страниц в группе книг ------------------------------"
   ]
  },
  {
   "cell_type": "code",
   "execution_count": null,
   "metadata": {},
   "outputs": [],
   "source": [
    "#беру предыдущий запрос к странице\n",
    "total_pages = single_page_soup.find('div', class_='PaginatedContent_paginator___2ugs').find_all('li', class_='Paginator_page___fg9G')\n",
    "b1 = BeautifulSoup(str(total_pages).split(sep=\",\")[-1], 'html.parser').getText()\n",
    "non_decimal = re.compile(r'[^\\d.]+')\n",
    "b1 = non_decimal.sub('', b1)\n",
    "int(b1)\n"
   ]
  }
 ],
 "metadata": {
  "kernelspec": {
   "display_name": ".venv",
   "language": "python",
   "name": "python3"
  },
  "language_info": {
   "codemirror_mode": {
    "name": "ipython",
    "version": 3
   },
   "file_extension": ".py",
   "mimetype": "text/x-python",
   "name": "python",
   "nbconvert_exporter": "python",
   "pygments_lexer": "ipython3",
   "version": "3.12.2"
  }
 },
 "nbformat": 4,
 "nbformat_minor": 2
}
